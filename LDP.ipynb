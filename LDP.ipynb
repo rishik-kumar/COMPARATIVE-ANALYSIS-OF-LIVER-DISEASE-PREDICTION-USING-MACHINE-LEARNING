{
 "cells": [
  {
   "cell_type": "code",
   "execution_count": 1,
   "metadata": {},
   "outputs": [],
   "source": [
    "import numpy as np\n",
    "import pandas as pd\n",
    "from matplotlib import pyplot as plt\n",
    "import seaborn as sns\n",
    "\n",
    "from sklearn.preprocessing import LabelEncoder, MinMaxScaler\n",
    "from sklearn.model_selection import train_test_split\n",
    "from sklearn.metrics import classification_report, confusion_matrix, accuracy_score\n",
    "\n",
    "from sklearn.svm import SVC"
   ]
  },
  {
   "cell_type": "code",
   "execution_count": 33,
   "metadata": {},
   "outputs": [
    {
     "data": {
      "text/html": [
       "<div>\n",
       "<style scoped>\n",
       "    .dataframe tbody tr th:only-of-type {\n",
       "        vertical-align: middle;\n",
       "    }\n",
       "\n",
       "    .dataframe tbody tr th {\n",
       "        vertical-align: top;\n",
       "    }\n",
       "\n",
       "    .dataframe thead th {\n",
       "        text-align: right;\n",
       "    }\n",
       "</style>\n",
       "<table border=\"1\" class=\"dataframe\">\n",
       "  <thead>\n",
       "    <tr style=\"text-align: right;\">\n",
       "      <th></th>\n",
       "      <th>Age</th>\n",
       "      <th>Gender</th>\n",
       "      <th>Region</th>\n",
       "      <th>Weight</th>\n",
       "      <th>Height</th>\n",
       "      <th>Body Mass Index</th>\n",
       "      <th>Obesity</th>\n",
       "      <th>Waist</th>\n",
       "      <th>Maximum Blood Pressure</th>\n",
       "      <th>Minimum Blood Pressure</th>\n",
       "      <th>...</th>\n",
       "      <th>PoorVision</th>\n",
       "      <th>Alcohol Consumption</th>\n",
       "      <th>HyperTension</th>\n",
       "      <th>Family  HyperTension</th>\n",
       "      <th>Diabetes</th>\n",
       "      <th>Family Diabetes</th>\n",
       "      <th>Hepatitis</th>\n",
       "      <th>Family Hepatitis</th>\n",
       "      <th>Chronic Fatigue</th>\n",
       "      <th>ALF</th>\n",
       "    </tr>\n",
       "  </thead>\n",
       "  <tbody>\n",
       "    <tr>\n",
       "      <td>0</td>\n",
       "      <td>65</td>\n",
       "      <td>M</td>\n",
       "      <td>east</td>\n",
       "      <td>56.0</td>\n",
       "      <td>162.1</td>\n",
       "      <td>21.31</td>\n",
       "      <td>0.0</td>\n",
       "      <td>83.6</td>\n",
       "      <td>135.0</td>\n",
       "      <td>71.0</td>\n",
       "      <td>...</td>\n",
       "      <td>0.0</td>\n",
       "      <td>1</td>\n",
       "      <td>0.0</td>\n",
       "      <td>0</td>\n",
       "      <td>0.0</td>\n",
       "      <td>1</td>\n",
       "      <td>1.0</td>\n",
       "      <td>0.0</td>\n",
       "      <td>0.0</td>\n",
       "      <td>0.0</td>\n",
       "    </tr>\n",
       "    <tr>\n",
       "      <td>1</td>\n",
       "      <td>36</td>\n",
       "      <td>M</td>\n",
       "      <td>south</td>\n",
       "      <td>60.2</td>\n",
       "      <td>162.2</td>\n",
       "      <td>22.88</td>\n",
       "      <td>0.0</td>\n",
       "      <td>76.6</td>\n",
       "      <td>96.0</td>\n",
       "      <td>52.0</td>\n",
       "      <td>...</td>\n",
       "      <td>0.0</td>\n",
       "      <td>0</td>\n",
       "      <td>0.0</td>\n",
       "      <td>0</td>\n",
       "      <td>0.0</td>\n",
       "      <td>0</td>\n",
       "      <td>0.0</td>\n",
       "      <td>0.0</td>\n",
       "      <td>0.0</td>\n",
       "      <td>0.0</td>\n",
       "    </tr>\n",
       "    <tr>\n",
       "      <td>2</td>\n",
       "      <td>66</td>\n",
       "      <td>M</td>\n",
       "      <td>east</td>\n",
       "      <td>83.9</td>\n",
       "      <td>162.5</td>\n",
       "      <td>31.77</td>\n",
       "      <td>1.0</td>\n",
       "      <td>113.2</td>\n",
       "      <td>115.0</td>\n",
       "      <td>57.0</td>\n",
       "      <td>...</td>\n",
       "      <td>0.0</td>\n",
       "      <td>1</td>\n",
       "      <td>0.0</td>\n",
       "      <td>0</td>\n",
       "      <td>1.0</td>\n",
       "      <td>0</td>\n",
       "      <td>0.0</td>\n",
       "      <td>0.0</td>\n",
       "      <td>0.0</td>\n",
       "      <td>0.0</td>\n",
       "    </tr>\n",
       "    <tr>\n",
       "      <td>3</td>\n",
       "      <td>54</td>\n",
       "      <td>M</td>\n",
       "      <td>east</td>\n",
       "      <td>69.4</td>\n",
       "      <td>160.5</td>\n",
       "      <td>26.94</td>\n",
       "      <td>0.0</td>\n",
       "      <td>77.9</td>\n",
       "      <td>110.0</td>\n",
       "      <td>57.0</td>\n",
       "      <td>...</td>\n",
       "      <td>0.0</td>\n",
       "      <td>1</td>\n",
       "      <td>0.0</td>\n",
       "      <td>0</td>\n",
       "      <td>0.0</td>\n",
       "      <td>0</td>\n",
       "      <td>0.0</td>\n",
       "      <td>0.0</td>\n",
       "      <td>0.0</td>\n",
       "      <td>0.0</td>\n",
       "    </tr>\n",
       "    <tr>\n",
       "      <td>4</td>\n",
       "      <td>63</td>\n",
       "      <td>M</td>\n",
       "      <td>north</td>\n",
       "      <td>73.1</td>\n",
       "      <td>159.2</td>\n",
       "      <td>28.84</td>\n",
       "      <td>0.0</td>\n",
       "      <td>89.3</td>\n",
       "      <td>132.0</td>\n",
       "      <td>73.0</td>\n",
       "      <td>...</td>\n",
       "      <td>0.0</td>\n",
       "      <td>0</td>\n",
       "      <td>1.0</td>\n",
       "      <td>0</td>\n",
       "      <td>0.0</td>\n",
       "      <td>0</td>\n",
       "      <td>0.0</td>\n",
       "      <td>0.0</td>\n",
       "      <td>0.0</td>\n",
       "      <td>0.0</td>\n",
       "    </tr>\n",
       "  </tbody>\n",
       "</table>\n",
       "<p>5 rows × 30 columns</p>\n",
       "</div>"
      ],
      "text/plain": [
       "   Age Gender Region  Weight  Height  Body Mass Index  Obesity  Waist  \\\n",
       "0   65      M   east    56.0   162.1            21.31      0.0   83.6   \n",
       "1   36      M  south    60.2   162.2            22.88      0.0   76.6   \n",
       "2   66      M   east    83.9   162.5            31.77      1.0  113.2   \n",
       "3   54      M   east    69.4   160.5            26.94      0.0   77.9   \n",
       "4   63      M  north    73.1   159.2            28.84      0.0   89.3   \n",
       "\n",
       "   Maximum Blood Pressure  Minimum Blood Pressure  ...  PoorVision  \\\n",
       "0                   135.0                    71.0  ...         0.0   \n",
       "1                    96.0                    52.0  ...         0.0   \n",
       "2                   115.0                    57.0  ...         0.0   \n",
       "3                   110.0                    57.0  ...         0.0   \n",
       "4                   132.0                    73.0  ...         0.0   \n",
       "\n",
       "   Alcohol Consumption  HyperTension  Family  HyperTension  Diabetes  \\\n",
       "0                    1           0.0                     0       0.0   \n",
       "1                    0           0.0                     0       0.0   \n",
       "2                    1           0.0                     0       1.0   \n",
       "3                    1           0.0                     0       0.0   \n",
       "4                    0           1.0                     0       0.0   \n",
       "\n",
       "   Family Diabetes  Hepatitis  Family Hepatitis  Chronic Fatigue  ALF  \n",
       "0                1        1.0               0.0              0.0  0.0  \n",
       "1                0        0.0               0.0              0.0  0.0  \n",
       "2                0        0.0               0.0              0.0  0.0  \n",
       "3                0        0.0               0.0              0.0  0.0  \n",
       "4                0        0.0               0.0              0.0  0.0  \n",
       "\n",
       "[5 rows x 30 columns]"
      ]
     },
     "execution_count": 33,
     "metadata": {},
     "output_type": "execute_result"
    }
   ],
   "source": [
    "raw_data = pd.read_excel('ALF_Data.xlsx')\n",
    "raw_data.head()"
   ]
  },
  {
   "cell_type": "code",
   "execution_count": 34,
   "metadata": {},
   "outputs": [
    {
     "data": {
      "text/plain": [
       "Index(['Age', 'Gender', 'Region', 'Weight', 'Height', 'Body Mass Index',\n",
       "       'Obesity', 'Waist', 'Maximum Blood Pressure', 'Minimum Blood Pressure',\n",
       "       'Good Cholesterol', 'Bad Cholesterol', 'Total Cholesterol',\n",
       "       'Dyslipidemia', 'PVD', 'Physical Activity', 'Education', 'Unmarried',\n",
       "       'Income', 'Source of Care', 'PoorVision', 'Alcohol Consumption',\n",
       "       'HyperTension', 'Family  HyperTension', 'Diabetes', 'Family Diabetes',\n",
       "       'Hepatitis', 'Family Hepatitis', 'Chronic Fatigue', 'ALF'],\n",
       "      dtype='object')"
      ]
     },
     "execution_count": 34,
     "metadata": {},
     "output_type": "execute_result"
    }
   ],
   "source": [
    "raw_data.columns"
   ]
  },
  {
   "cell_type": "code",
   "execution_count": 35,
   "metadata": {},
   "outputs": [
    {
     "data": {
      "text/plain": [
       "(8785, 30)"
      ]
     },
     "execution_count": 35,
     "metadata": {},
     "output_type": "execute_result"
    }
   ],
   "source": [
    "raw_data.shape"
   ]
  },
  {
   "cell_type": "code",
   "execution_count": 39,
   "metadata": {},
   "outputs": [],
   "source": [
    "raw_data = raw_data.drop(['Physical Activity','PVD', 'Source of Care','Family  HyperTension','Family Hepatitis','Chronic Fatigue','PVD','Region'],axis=1)"
   ]
  },
  {
   "cell_type": "code",
   "execution_count": 43,
   "metadata": {},
   "outputs": [
    {
     "data": {
      "text/html": [
       "<div>\n",
       "<style scoped>\n",
       "    .dataframe tbody tr th:only-of-type {\n",
       "        vertical-align: middle;\n",
       "    }\n",
       "\n",
       "    .dataframe tbody tr th {\n",
       "        vertical-align: top;\n",
       "    }\n",
       "\n",
       "    .dataframe thead th {\n",
       "        text-align: right;\n",
       "    }\n",
       "</style>\n",
       "<table border=\"1\" class=\"dataframe\">\n",
       "  <thead>\n",
       "    <tr style=\"text-align: right;\">\n",
       "      <th></th>\n",
       "      <th>Age</th>\n",
       "      <th>Gender</th>\n",
       "      <th>Weight</th>\n",
       "      <th>Height</th>\n",
       "      <th>Body Mass Index</th>\n",
       "      <th>Obesity</th>\n",
       "      <th>Waist</th>\n",
       "      <th>Maximum Blood Pressure</th>\n",
       "      <th>Minimum Blood Pressure</th>\n",
       "      <th>Good Cholesterol</th>\n",
       "      <th>...</th>\n",
       "      <th>Education</th>\n",
       "      <th>Unmarried</th>\n",
       "      <th>Income</th>\n",
       "      <th>PoorVision</th>\n",
       "      <th>Alcohol Consumption</th>\n",
       "      <th>HyperTension</th>\n",
       "      <th>Diabetes</th>\n",
       "      <th>Family Diabetes</th>\n",
       "      <th>Hepatitis</th>\n",
       "      <th>ALF</th>\n",
       "    </tr>\n",
       "  </thead>\n",
       "  <tbody>\n",
       "    <tr>\n",
       "      <td>0</td>\n",
       "      <td>65</td>\n",
       "      <td>1</td>\n",
       "      <td>56.0</td>\n",
       "      <td>162.1</td>\n",
       "      <td>21.31</td>\n",
       "      <td>0.0</td>\n",
       "      <td>83.6</td>\n",
       "      <td>135.0</td>\n",
       "      <td>71.0</td>\n",
       "      <td>48.0</td>\n",
       "      <td>...</td>\n",
       "      <td>0.0</td>\n",
       "      <td>0.0</td>\n",
       "      <td>1.0</td>\n",
       "      <td>0.0</td>\n",
       "      <td>1</td>\n",
       "      <td>0.0</td>\n",
       "      <td>0.0</td>\n",
       "      <td>1</td>\n",
       "      <td>1.0</td>\n",
       "      <td>0.0</td>\n",
       "    </tr>\n",
       "    <tr>\n",
       "      <td>1</td>\n",
       "      <td>36</td>\n",
       "      <td>1</td>\n",
       "      <td>60.2</td>\n",
       "      <td>162.2</td>\n",
       "      <td>22.88</td>\n",
       "      <td>0.0</td>\n",
       "      <td>76.6</td>\n",
       "      <td>96.0</td>\n",
       "      <td>52.0</td>\n",
       "      <td>31.0</td>\n",
       "      <td>...</td>\n",
       "      <td>0.0</td>\n",
       "      <td>NaN</td>\n",
       "      <td>1.0</td>\n",
       "      <td>0.0</td>\n",
       "      <td>0</td>\n",
       "      <td>0.0</td>\n",
       "      <td>0.0</td>\n",
       "      <td>0</td>\n",
       "      <td>0.0</td>\n",
       "      <td>0.0</td>\n",
       "    </tr>\n",
       "    <tr>\n",
       "      <td>2</td>\n",
       "      <td>66</td>\n",
       "      <td>1</td>\n",
       "      <td>83.9</td>\n",
       "      <td>162.5</td>\n",
       "      <td>31.77</td>\n",
       "      <td>1.0</td>\n",
       "      <td>113.2</td>\n",
       "      <td>115.0</td>\n",
       "      <td>57.0</td>\n",
       "      <td>44.0</td>\n",
       "      <td>...</td>\n",
       "      <td>0.0</td>\n",
       "      <td>1.0</td>\n",
       "      <td>0.0</td>\n",
       "      <td>0.0</td>\n",
       "      <td>1</td>\n",
       "      <td>0.0</td>\n",
       "      <td>1.0</td>\n",
       "      <td>0</td>\n",
       "      <td>0.0</td>\n",
       "      <td>0.0</td>\n",
       "    </tr>\n",
       "    <tr>\n",
       "      <td>3</td>\n",
       "      <td>54</td>\n",
       "      <td>1</td>\n",
       "      <td>69.4</td>\n",
       "      <td>160.5</td>\n",
       "      <td>26.94</td>\n",
       "      <td>0.0</td>\n",
       "      <td>77.9</td>\n",
       "      <td>110.0</td>\n",
       "      <td>57.0</td>\n",
       "      <td>74.0</td>\n",
       "      <td>...</td>\n",
       "      <td>1.0</td>\n",
       "      <td>0.0</td>\n",
       "      <td>0.0</td>\n",
       "      <td>0.0</td>\n",
       "      <td>1</td>\n",
       "      <td>0.0</td>\n",
       "      <td>0.0</td>\n",
       "      <td>0</td>\n",
       "      <td>0.0</td>\n",
       "      <td>0.0</td>\n",
       "    </tr>\n",
       "    <tr>\n",
       "      <td>4</td>\n",
       "      <td>63</td>\n",
       "      <td>1</td>\n",
       "      <td>73.1</td>\n",
       "      <td>159.2</td>\n",
       "      <td>28.84</td>\n",
       "      <td>0.0</td>\n",
       "      <td>89.3</td>\n",
       "      <td>132.0</td>\n",
       "      <td>73.0</td>\n",
       "      <td>67.0</td>\n",
       "      <td>...</td>\n",
       "      <td>0.0</td>\n",
       "      <td>0.0</td>\n",
       "      <td>NaN</td>\n",
       "      <td>0.0</td>\n",
       "      <td>0</td>\n",
       "      <td>1.0</td>\n",
       "      <td>0.0</td>\n",
       "      <td>0</td>\n",
       "      <td>0.0</td>\n",
       "      <td>0.0</td>\n",
       "    </tr>\n",
       "  </tbody>\n",
       "</table>\n",
       "<p>5 rows × 23 columns</p>\n",
       "</div>"
      ],
      "text/plain": [
       "   Age  Gender  Weight  Height  Body Mass Index  Obesity  Waist  \\\n",
       "0   65       1    56.0   162.1            21.31      0.0   83.6   \n",
       "1   36       1    60.2   162.2            22.88      0.0   76.6   \n",
       "2   66       1    83.9   162.5            31.77      1.0  113.2   \n",
       "3   54       1    69.4   160.5            26.94      0.0   77.9   \n",
       "4   63       1    73.1   159.2            28.84      0.0   89.3   \n",
       "\n",
       "   Maximum Blood Pressure  Minimum Blood Pressure  Good Cholesterol  ...  \\\n",
       "0                   135.0                    71.0              48.0  ...   \n",
       "1                    96.0                    52.0              31.0  ...   \n",
       "2                   115.0                    57.0              44.0  ...   \n",
       "3                   110.0                    57.0              74.0  ...   \n",
       "4                   132.0                    73.0              67.0  ...   \n",
       "\n",
       "   Education  Unmarried  Income  PoorVision  Alcohol Consumption  \\\n",
       "0        0.0        0.0     1.0         0.0                    1   \n",
       "1        0.0        NaN     1.0         0.0                    0   \n",
       "2        0.0        1.0     0.0         0.0                    1   \n",
       "3        1.0        0.0     0.0         0.0                    1   \n",
       "4        0.0        0.0     NaN         0.0                    0   \n",
       "\n",
       "   HyperTension  Diabetes  Family Diabetes  Hepatitis  ALF  \n",
       "0           0.0       0.0                1        1.0  0.0  \n",
       "1           0.0       0.0                0        0.0  0.0  \n",
       "2           0.0       1.0                0        0.0  0.0  \n",
       "3           0.0       0.0                0        0.0  0.0  \n",
       "4           1.0       0.0                0        0.0  0.0  \n",
       "\n",
       "[5 rows x 23 columns]"
      ]
     },
     "execution_count": 43,
     "metadata": {},
     "output_type": "execute_result"
    }
   ],
   "source": [
    "raw_data.head()"
   ]
  },
  {
   "cell_type": "code",
   "execution_count": 42,
   "metadata": {},
   "outputs": [],
   "source": [
    "raw_data['Gender'] = raw_data['Gender'].map({'F': 0, 'M': 1})"
   ]
  },
  {
   "cell_type": "code",
   "execution_count": 45,
   "metadata": {},
   "outputs": [
    {
     "name": "stdout",
     "output_type": "stream",
     "text": [
      "Top Absolute Correlations\n",
      "Bad Cholesterol         Total Cholesterol         0.932217\n",
      "Weight                  Waist                     0.872568\n",
      "Body Mass Index         Waist                     0.872456\n",
      "Weight                  Body Mass Index           0.862399\n",
      "Body Mass Index         Obesity                   0.780516\n",
      "Obesity                 Waist                     0.681579\n",
      "Gender                  Height                    0.666301\n",
      "Weight                  Obesity                   0.662575\n",
      "Maximum Blood Pressure  HyperTension              0.625082\n",
      "Age                     Maximum Blood Pressure    0.553844\n",
      "dtype: float64\n"
     ]
    }
   ],
   "source": [
    "def get_redundant_pairs(df):\n",
    "    '''Get diagonal and lower triangular pairs of correlation matrix'''\n",
    "    pairs_to_drop = set()\n",
    "    cols = df.columns\n",
    "    for i in range(0, df.shape[1]):\n",
    "        for j in range(0, i+1):\n",
    "            pairs_to_drop.add((cols[i], cols[j]))\n",
    "    return pairs_to_drop\n",
    "\n",
    "def get_top_abs_correlations(df, n=5):\n",
    "    au_corr = df.corr().abs().unstack()\n",
    "    labels_to_drop = get_redundant_pairs(df)\n",
    "    au_corr = au_corr.drop(labels=labels_to_drop).sort_values(ascending=False)\n",
    "    return au_corr[0:n]\n",
    "\n",
    "print(\"Top Absolute Correlations\")\n",
    "print(get_top_abs_correlations(raw_data, 10))"
   ]
  },
  {
   "cell_type": "code",
   "execution_count": 63,
   "metadata": {},
   "outputs": [
    {
     "data": {
      "text/plain": [
       "Age                          0\n",
       "Gender                       0\n",
       "Height                     191\n",
       "Body Mass Index            290\n",
       "Maximum Blood Pressure     304\n",
       "Minimum Blood Pressure     376\n",
       "Good Cholesterol            17\n",
       "Total Cholesterol           16\n",
       "Dyslipidemia                 0\n",
       "Education                   20\n",
       "Unmarried                  452\n",
       "Income                    1161\n",
       "PoorVision                 563\n",
       "Alcohol Consumption          0\n",
       "HyperTension                80\n",
       "Diabetes                     2\n",
       "Family Diabetes              0\n",
       "Hepatitis                   22\n",
       "ALF                       2785\n",
       "dtype: int64"
      ]
     },
     "execution_count": 63,
     "metadata": {},
     "output_type": "execute_result"
    }
   ],
   "source": [
    "raw_data.isnull().sum()"
   ]
  },
  {
   "cell_type": "code",
   "execution_count": 47,
   "metadata": {},
   "outputs": [],
   "source": [
    "raw_data = raw_data.drop(['Weight','Obesity', 'Waist','Bad Cholesterol'],axis=1)"
   ]
  },
  {
   "cell_type": "code",
   "execution_count": 61,
   "metadata": {},
   "outputs": [
    {
     "data": {
      "text/plain": [
       "Age                         int64\n",
       "Gender                      int64\n",
       "Height                    float64\n",
       "Body Mass Index           float64\n",
       "Maximum Blood Pressure    float64\n",
       "Minimum Blood Pressure    float64\n",
       "Good Cholesterol          float64\n",
       "Total Cholesterol         float64\n",
       "Dyslipidemia                int64\n",
       "Education                 float64\n",
       "Unmarried                 float64\n",
       "Income                    float64\n",
       "PoorVision                float64\n",
       "Alcohol Consumption         int64\n",
       "HyperTension              float64\n",
       "Diabetes                  float64\n",
       "Family Diabetes             int64\n",
       "Hepatitis                 float64\n",
       "ALF                       float64\n",
       "dtype: object"
      ]
     },
     "execution_count": 61,
     "metadata": {},
     "output_type": "execute_result"
    }
   ],
   "source": [
    "raw_data.dtypes"
   ]
  },
  {
   "cell_type": "code",
   "execution_count": 62,
   "metadata": {},
   "outputs": [
    {
     "name": "stdout",
     "output_type": "stream",
     "text": [
      "Top Absolute Correlations\n",
      "Gender                  Height                    0.666301\n",
      "Maximum Blood Pressure  HyperTension              0.625082\n",
      "Age                     Maximum Blood Pressure    0.553844\n",
      "                        HyperTension              0.491531\n",
      "                        ALF                       0.367639\n",
      "Maximum Blood Pressure  Minimum Blood Pressure    0.342408\n",
      "Gender                  Good Cholesterol          0.323312\n",
      "Education               Income                    0.317448\n",
      "Age                     Hepatitis                 0.266345\n",
      "Total Cholesterol       Dyslipidemia              0.249612\n",
      "dtype: float64\n"
     ]
    }
   ],
   "source": [
    "print(\"Top Absolute Correlations\")\n",
    "print(get_top_abs_correlations(raw_data, 10))"
   ]
  },
  {
   "cell_type": "code",
   "execution_count": 66,
   "metadata": {},
   "outputs": [
    {
     "data": {
      "text/plain": [
       "Age                          0\n",
       "Gender                       0\n",
       "Height                     191\n",
       "Body Mass Index            290\n",
       "Maximum Blood Pressure     304\n",
       "Minimum Blood Pressure     376\n",
       "Good Cholesterol            17\n",
       "Total Cholesterol           16\n",
       "Dyslipidemia                 0\n",
       "Education                   20\n",
       "Unmarried                  452\n",
       "Income                    1161\n",
       "PoorVision                 563\n",
       "Alcohol Consumption          0\n",
       "HyperTension                80\n",
       "Diabetes                     2\n",
       "Family Diabetes              0\n",
       "Hepatitis                   22\n",
       "ALF                       2785\n",
       "dtype: int64"
      ]
     },
     "execution_count": 66,
     "metadata": {},
     "output_type": "execute_result"
    }
   ],
   "source": [
    "raw_data.isnull().sum()"
   ]
  },
  {
   "cell_type": "code",
   "execution_count": 67,
   "metadata": {},
   "outputs": [],
   "source": [
    "cols_mode = ['Hepatitis', 'Diabetes', 'HyperTension', 'Education', 'Unmarried','PoorVision','Income']\n",
    "for column in cols_mode:\n",
    "    raw_data[column].fillna(raw_data[column].mode()[0], inplace=True)"
   ]
  },
  {
   "cell_type": "code",
   "execution_count": 70,
   "metadata": {},
   "outputs": [],
   "source": [
    "cols_mode = ['Height', 'Body Mass Index', 'Maximum Blood Pressure', 'Minimum Blood Pressure', 'Good Cholesterol','Total Cholesterol','Income']\n",
    "for column in cols_mode:\n",
    "    raw_data[column].fillna(raw_data[column].mean(), inplace=True)"
   ]
  },
  {
   "cell_type": "code",
   "execution_count": 71,
   "metadata": {},
   "outputs": [
    {
     "data": {
      "text/plain": [
       "Age                          0\n",
       "Gender                       0\n",
       "Height                       0\n",
       "Body Mass Index              0\n",
       "Maximum Blood Pressure       0\n",
       "Minimum Blood Pressure       0\n",
       "Good Cholesterol             0\n",
       "Total Cholesterol            0\n",
       "Dyslipidemia                 0\n",
       "Education                    0\n",
       "Unmarried                    0\n",
       "Income                       0\n",
       "PoorVision                   0\n",
       "Alcohol Consumption          0\n",
       "HyperTension                 0\n",
       "Diabetes                     0\n",
       "Family Diabetes              0\n",
       "Hepatitis                    0\n",
       "ALF                       2785\n",
       "dtype: int64"
      ]
     },
     "execution_count": 71,
     "metadata": {},
     "output_type": "execute_result"
    }
   ],
   "source": [
    "raw_data.isnull().sum()"
   ]
  },
  {
   "cell_type": "code",
   "execution_count": 50,
   "metadata": {},
   "outputs": [
    {
     "data": {
      "text/plain": [
       "Age                         int64\n",
       "Gender                      int64\n",
       "Height                    float64\n",
       "Body Mass Index           float64\n",
       "Maximum Blood Pressure    float64\n",
       "Minimum Blood Pressure    float64\n",
       "Good Cholesterol          float64\n",
       "Total Cholesterol         float64\n",
       "Dyslipidemia                int64\n",
       "Education                 float64\n",
       "Unmarried                 float64\n",
       "Income                    float64\n",
       "PoorVision                float64\n",
       "Alcohol Consumption         int64\n",
       "HyperTension              float64\n",
       "Diabetes                  float64\n",
       "Family Diabetes             int64\n",
       "Hepatitis                 float64\n",
       "ALF                       float64\n",
       "dtype: object"
      ]
     },
     "execution_count": 50,
     "metadata": {},
     "output_type": "execute_result"
    }
   ],
   "source": [
    "raw_data.dtypes"
   ]
  },
  {
   "cell_type": "code",
   "execution_count": 86,
   "metadata": {},
   "outputs": [],
   "source": [
    "y = raw_data['ALF']\n",
    "raw_data.drop(columns=['ALF'],inplace=True)"
   ]
  },
  {
   "cell_type": "code",
   "execution_count": 91,
   "metadata": {},
   "outputs": [],
   "source": [
    "X = raw_data"
   ]
  },
  {
   "cell_type": "code",
   "execution_count": 92,
   "metadata": {},
   "outputs": [],
   "source": [
    "y = y[:6000]"
   ]
  },
  {
   "cell_type": "code",
   "execution_count": 93,
   "metadata": {},
   "outputs": [
    {
     "data": {
      "text/plain": [
       "(6000,)"
      ]
     },
     "execution_count": 93,
     "metadata": {},
     "output_type": "execute_result"
    }
   ],
   "source": [
    "y.shape"
   ]
  },
  {
   "cell_type": "code",
   "execution_count": 95,
   "metadata": {},
   "outputs": [
    {
     "data": {
      "text/plain": [
       "MinMaxScaler(copy=True, feature_range=(0, 1))"
      ]
     },
     "execution_count": 95,
     "metadata": {},
     "output_type": "execute_result"
    }
   ],
   "source": [
    "from sklearn.preprocessing import MinMaxScaler\n",
    "scaler = MinMaxScaler()\n",
    "scaler.fit(X)"
   ]
  },
  {
   "cell_type": "code",
   "execution_count": 98,
   "metadata": {},
   "outputs": [],
   "source": [
    "X = pd.DataFrame(scaler.transform(X),columns=X.columns)"
   ]
  },
  {
   "cell_type": "code",
   "execution_count": 99,
   "metadata": {},
   "outputs": [
    {
     "data": {
      "text/html": [
       "<div>\n",
       "<style scoped>\n",
       "    .dataframe tbody tr th:only-of-type {\n",
       "        vertical-align: middle;\n",
       "    }\n",
       "\n",
       "    .dataframe tbody tr th {\n",
       "        vertical-align: top;\n",
       "    }\n",
       "\n",
       "    .dataframe thead th {\n",
       "        text-align: right;\n",
       "    }\n",
       "</style>\n",
       "<table border=\"1\" class=\"dataframe\">\n",
       "  <thead>\n",
       "    <tr style=\"text-align: right;\">\n",
       "      <th></th>\n",
       "      <th>Age</th>\n",
       "      <th>Gender</th>\n",
       "      <th>Height</th>\n",
       "      <th>Body Mass Index</th>\n",
       "      <th>Maximum Blood Pressure</th>\n",
       "      <th>Minimum Blood Pressure</th>\n",
       "      <th>Good Cholesterol</th>\n",
       "      <th>Total Cholesterol</th>\n",
       "      <th>Dyslipidemia</th>\n",
       "      <th>Education</th>\n",
       "      <th>Unmarried</th>\n",
       "      <th>Income</th>\n",
       "      <th>PoorVision</th>\n",
       "      <th>Alcohol Consumption</th>\n",
       "      <th>HyperTension</th>\n",
       "      <th>Diabetes</th>\n",
       "      <th>Family Diabetes</th>\n",
       "      <th>Hepatitis</th>\n",
       "    </tr>\n",
       "  </thead>\n",
       "  <tbody>\n",
       "    <tr>\n",
       "      <td>0</td>\n",
       "      <td>0.692308</td>\n",
       "      <td>1.0</td>\n",
       "      <td>0.454806</td>\n",
       "      <td>0.170404</td>\n",
       "      <td>0.391304</td>\n",
       "      <td>0.500000</td>\n",
       "      <td>0.263158</td>\n",
       "      <td>0.343511</td>\n",
       "      <td>0.0</td>\n",
       "      <td>0.0</td>\n",
       "      <td>0.0</td>\n",
       "      <td>1.0</td>\n",
       "      <td>0.0</td>\n",
       "      <td>1.0</td>\n",
       "      <td>0.0</td>\n",
       "      <td>0.0</td>\n",
       "      <td>1.0</td>\n",
       "      <td>1.0</td>\n",
       "    </tr>\n",
       "    <tr>\n",
       "      <td>1</td>\n",
       "      <td>0.246154</td>\n",
       "      <td>1.0</td>\n",
       "      <td>0.456241</td>\n",
       "      <td>0.199265</td>\n",
       "      <td>0.149068</td>\n",
       "      <td>0.344262</td>\n",
       "      <td>0.151316</td>\n",
       "      <td>0.143511</td>\n",
       "      <td>0.0</td>\n",
       "      <td>0.0</td>\n",
       "      <td>0.0</td>\n",
       "      <td>1.0</td>\n",
       "      <td>0.0</td>\n",
       "      <td>0.0</td>\n",
       "      <td>0.0</td>\n",
       "      <td>0.0</td>\n",
       "      <td>0.0</td>\n",
       "      <td>0.0</td>\n",
       "    </tr>\n",
       "    <tr>\n",
       "      <td>2</td>\n",
       "      <td>0.707692</td>\n",
       "      <td>1.0</td>\n",
       "      <td>0.460545</td>\n",
       "      <td>0.362684</td>\n",
       "      <td>0.267081</td>\n",
       "      <td>0.385246</td>\n",
       "      <td>0.236842</td>\n",
       "      <td>0.279389</td>\n",
       "      <td>1.0</td>\n",
       "      <td>0.0</td>\n",
       "      <td>1.0</td>\n",
       "      <td>0.0</td>\n",
       "      <td>0.0</td>\n",
       "      <td>1.0</td>\n",
       "      <td>0.0</td>\n",
       "      <td>1.0</td>\n",
       "      <td>0.0</td>\n",
       "      <td>0.0</td>\n",
       "    </tr>\n",
       "    <tr>\n",
       "      <td>3</td>\n",
       "      <td>0.523077</td>\n",
       "      <td>1.0</td>\n",
       "      <td>0.431851</td>\n",
       "      <td>0.273897</td>\n",
       "      <td>0.236025</td>\n",
       "      <td>0.385246</td>\n",
       "      <td>0.434211</td>\n",
       "      <td>0.241221</td>\n",
       "      <td>0.0</td>\n",
       "      <td>1.0</td>\n",
       "      <td>0.0</td>\n",
       "      <td>0.0</td>\n",
       "      <td>0.0</td>\n",
       "      <td>1.0</td>\n",
       "      <td>0.0</td>\n",
       "      <td>0.0</td>\n",
       "      <td>0.0</td>\n",
       "      <td>0.0</td>\n",
       "    </tr>\n",
       "    <tr>\n",
       "      <td>4</td>\n",
       "      <td>0.661538</td>\n",
       "      <td>1.0</td>\n",
       "      <td>0.413199</td>\n",
       "      <td>0.308824</td>\n",
       "      <td>0.372671</td>\n",
       "      <td>0.516393</td>\n",
       "      <td>0.388158</td>\n",
       "      <td>0.227481</td>\n",
       "      <td>0.0</td>\n",
       "      <td>0.0</td>\n",
       "      <td>0.0</td>\n",
       "      <td>0.0</td>\n",
       "      <td>0.0</td>\n",
       "      <td>0.0</td>\n",
       "      <td>1.0</td>\n",
       "      <td>0.0</td>\n",
       "      <td>0.0</td>\n",
       "      <td>0.0</td>\n",
       "    </tr>\n",
       "  </tbody>\n",
       "</table>\n",
       "</div>"
      ],
      "text/plain": [
       "        Age  Gender    Height  Body Mass Index  Maximum Blood Pressure  \\\n",
       "0  0.692308     1.0  0.454806         0.170404                0.391304   \n",
       "1  0.246154     1.0  0.456241         0.199265                0.149068   \n",
       "2  0.707692     1.0  0.460545         0.362684                0.267081   \n",
       "3  0.523077     1.0  0.431851         0.273897                0.236025   \n",
       "4  0.661538     1.0  0.413199         0.308824                0.372671   \n",
       "\n",
       "   Minimum Blood Pressure  Good Cholesterol  Total Cholesterol  Dyslipidemia  \\\n",
       "0                0.500000          0.263158           0.343511           0.0   \n",
       "1                0.344262          0.151316           0.143511           0.0   \n",
       "2                0.385246          0.236842           0.279389           1.0   \n",
       "3                0.385246          0.434211           0.241221           0.0   \n",
       "4                0.516393          0.388158           0.227481           0.0   \n",
       "\n",
       "   Education  Unmarried  Income  PoorVision  Alcohol Consumption  \\\n",
       "0        0.0        0.0     1.0         0.0                  1.0   \n",
       "1        0.0        0.0     1.0         0.0                  0.0   \n",
       "2        0.0        1.0     0.0         0.0                  1.0   \n",
       "3        1.0        0.0     0.0         0.0                  1.0   \n",
       "4        0.0        0.0     0.0         0.0                  0.0   \n",
       "\n",
       "   HyperTension  Diabetes  Family Diabetes  Hepatitis  \n",
       "0           0.0       0.0              1.0        1.0  \n",
       "1           0.0       0.0              0.0        0.0  \n",
       "2           0.0       1.0              0.0        0.0  \n",
       "3           0.0       0.0              0.0        0.0  \n",
       "4           1.0       0.0              0.0        0.0  "
      ]
     },
     "execution_count": 99,
     "metadata": {},
     "output_type": "execute_result"
    }
   ],
   "source": [
    "X.head()"
   ]
  },
  {
   "cell_type": "code",
   "execution_count": 100,
   "metadata": {},
   "outputs": [],
   "source": [
    "X_pred = X[:6000]"
   ]
  },
  {
   "cell_type": "code",
   "execution_count": 101,
   "metadata": {},
   "outputs": [],
   "source": [
    "X = X[:6000]"
   ]
  },
  {
   "cell_type": "code",
   "execution_count": 102,
   "metadata": {},
   "outputs": [],
   "source": [
    "from sklearn.model_selection import train_test_split\n",
    "X_train, X_test, y_train, y_test = train_test_split(X,y,stratify = y,shuffle=True ,test_size=0.2)"
   ]
  },
  {
   "cell_type": "code",
   "execution_count": 103,
   "metadata": {},
   "outputs": [],
   "source": [
    "from xgboost import XGBClassifier\n",
    "xgb = XGBClassifier(random_state=10)"
   ]
  },
  {
   "cell_type": "code",
   "execution_count": 104,
   "metadata": {},
   "outputs": [
    {
     "data": {
      "text/plain": [
       "XGBClassifier(base_score=0.5, booster='gbtree', colsample_bylevel=1,\n",
       "              colsample_bynode=1, colsample_bytree=1, gamma=0,\n",
       "              learning_rate=0.1, max_delta_step=0, max_depth=3,\n",
       "              min_child_weight=1, missing=None, n_estimators=100, n_jobs=1,\n",
       "              nthread=None, objective='binary:logistic', random_state=10,\n",
       "              reg_alpha=0, reg_lambda=1, scale_pos_weight=1, seed=None,\n",
       "              silent=None, subsample=1, verbosity=1)"
      ]
     },
     "execution_count": 104,
     "metadata": {},
     "output_type": "execute_result"
    }
   ],
   "source": [
    "xgb.fit(X_train,y_train)"
   ]
  },
  {
   "cell_type": "code",
   "execution_count": 110,
   "metadata": {},
   "outputs": [],
   "source": [
    "y_pred = xgb.predict(X_test)"
   ]
  },
  {
   "cell_type": "code",
   "execution_count": 111,
   "metadata": {},
   "outputs": [
    {
     "data": {
      "text/plain": [
       "0.9216666666666666"
      ]
     },
     "execution_count": 111,
     "metadata": {},
     "output_type": "execute_result"
    }
   ],
   "source": [
    "xgb.score(X_test,y_test)"
   ]
  },
  {
   "cell_type": "code",
   "execution_count": 112,
   "metadata": {},
   "outputs": [
    {
     "name": "stdout",
     "output_type": "stream",
     "text": [
      "              precision    recall  f1-score   support\n",
      "\n",
      "         0.0       0.93      0.99      0.96      1107\n",
      "         1.0       0.48      0.13      0.20        93\n",
      "\n",
      "    accuracy                           0.92      1200\n",
      "   macro avg       0.71      0.56      0.58      1200\n",
      "weighted avg       0.90      0.92      0.90      1200\n",
      "\n"
     ]
    }
   ],
   "source": [
    "print(classification_report(y_test, y_pred))"
   ]
  },
  {
   "cell_type": "code",
   "execution_count": 117,
   "metadata": {},
   "outputs": [
    {
     "data": {
      "text/plain": [
       "<matplotlib.axes._subplots.AxesSubplot at 0x26cbf85e408>"
      ]
     },
     "execution_count": 117,
     "metadata": {},
     "output_type": "execute_result"
    },
    {
     "data": {
      "image/png": "[encoded data removed]",
      "text/plain": [
       "<Figure size 432x288 with 2 Axes>"
      ]
     },
     "metadata": {
      "needs_background": "light"
     },
     "output_type": "display_data"
    }
   ],
   "source": [
    "import scikitplot as skplt\n",
    "skplt.metrics.plot_confusion_matrix(y_test, y_pred, normalize=True)"
   ]
  },
  {
   "cell_type": "code",
   "execution_count": 118,
   "metadata": {},
   "outputs": [
    {
     "data": {
      "text/plain": [
       "array([[1094,   13],\n",
       "       [  81,   12]], dtype=int64)"
      ]
     },
     "execution_count": 118,
     "metadata": {},
     "output_type": "execute_result"
    }
   ],
   "source": [
    "confusion_matrix(y_test,y_pred)"
   ]
  },
  {
   "cell_type": "code",
   "execution_count": 119,
   "metadata": {},
   "outputs": [
    {
     "data": {
      "text/plain": [
       "0.9283333333333333"
      ]
     },
     "execution_count": 119,
     "metadata": {},
     "output_type": "execute_result"
    }
   ],
   "source": [
    "from sklearn.linear_model import LogisticRegression \n",
    "lr = LogisticRegression()\n",
    "lr.fit(X_train, y_train)\n",
    "\n",
    "lr.score(X_test, y_test)"
   ]
  },
  {
   "cell_type": "code",
   "execution_count": 120,
   "metadata": {},
   "outputs": [
    {
     "data": {
      "text/plain": [
       "0.9233333333333333"
      ]
     },
     "execution_count": 120,
     "metadata": {},
     "output_type": "execute_result"
    }
   ],
   "source": [
    "from sklearn.neighbors import KNeighborsClassifier\n",
    "from sklearn import metrics\n",
    "k_range = range(1,15)\n",
    "scores = {}\n",
    "scores_list = []\n",
    "for k in k_range:\n",
    "    knn =  KNeighborsClassifier(n_neighbors = k)\n",
    "    knn.fit(X_train, y_train)\n",
    "    y_predict = knn.predict(X_test)\n",
    "    scores[k] = metrics.accuracy_score(y_test, y_predict)\n",
    "    scores_list.append(metrics.accuracy_score(y_test, y_predict))\n",
    "knn.score(X_test, y_test)"
   ]
  },
  {
   "cell_type": "code",
   "execution_count": 121,
   "metadata": {},
   "outputs": [
    {
     "data": {
      "text/plain": [
       "Text(0, 0.5, 'Testing Accuracy')"
      ]
     },
     "execution_count": 121,
     "metadata": {},
     "output_type": "execute_result"
    },
    {
     "data": {
      "image/png": "[encoded data removed]",
      "text/plain": [
       "<Figure size 432x288 with 1 Axes>"
      ]
     },
     "metadata": {
      "needs_background": "light"
     },
     "output_type": "display_data"
    }
   ],
   "source": [
    "\n",
    "%matplotlib inline\n",
    "from matplotlib import pyplot as plt\n",
    "plt.plot(k_range, scores_list)\n",
    "plt.xlabel(\"Values of K for KNN\",color = \"white\")\n",
    "plt.ylabel(\"Testing Accuracy\",color = \"white\")"
   ]
  },
  {
   "cell_type": "code",
   "execution_count": 127,
   "metadata": {},
   "outputs": [
    {
     "data": {
      "text/plain": [
       "0.9216666666666666"
      ]
     },
     "execution_count": 127,
     "metadata": {},
     "output_type": "execute_result"
    }
   ],
   "source": [
    "\n",
    "knn =  KNeighborsClassifier(n_neighbors = 5)\n",
    "knn.fit(X_train, y_train)\n",
    "knn.score(X_test, y_test)"
   ]
  },
  {
   "cell_type": "code",
   "execution_count": 128,
   "metadata": {},
   "outputs": [
    {
     "data": {
      "text/plain": [
       "DecisionTreeClassifier(ccp_alpha=0.0, class_weight=None, criterion='gini',\n",
       "                       max_depth=None, max_features=None, max_leaf_nodes=None,\n",
       "                       min_impurity_decrease=0.0, min_impurity_split=None,\n",
       "                       min_samples_leaf=1, min_samples_split=2,\n",
       "                       min_weight_fraction_leaf=0.0, presort='deprecated',\n",
       "                       random_state=0, splitter='best')"
      ]
     },
     "execution_count": 128,
     "metadata": {},
     "output_type": "execute_result"
    }
   ],
   "source": [
    "from sklearn.tree import DecisionTreeClassifier\n",
    "clf = DecisionTreeClassifier(random_state=0)\n",
    "clf.fit(X_train,y_train)"
   ]
  },
  {
   "cell_type": "code",
   "execution_count": 129,
   "metadata": {},
   "outputs": [
    {
     "data": {
      "text/plain": [
       "0.8808333333333334"
      ]
     },
     "execution_count": 129,
     "metadata": {},
     "output_type": "execute_result"
    }
   ],
   "source": [
    "clf.score(X_test,y_test)"
   ]
  },
  {
   "cell_type": "code",
   "execution_count": 142,
   "metadata": {},
   "outputs": [
    {
     "data": {
      "text/plain": [
       "RandomForestClassifier(bootstrap=True, ccp_alpha=0.0, class_weight=None,\n",
       "                       criterion='gini', max_depth=2, max_features='auto',\n",
       "                       max_leaf_nodes=None, max_samples=None,\n",
       "                       min_impurity_decrease=0.0, min_impurity_split=None,\n",
       "                       min_samples_leaf=1, min_samples_split=2,\n",
       "                       min_weight_fraction_leaf=0.0, n_estimators=10,\n",
       "                       n_jobs=None, oob_score=False, random_state=0, verbose=0,\n",
       "                       warm_start=False)"
      ]
     },
     "execution_count": 142,
     "metadata": {},
     "output_type": "execute_result"
    }
   ],
   "source": [
    "from sklearn.ensemble import RandomForestClassifier\n",
    "clf = RandomForestClassifier(n_estimators = 10,max_depth=2, random_state=0)\n",
    "clf.fit(X_train, y_train)"
   ]
  },
  {
   "cell_type": "code",
   "execution_count": 143,
   "metadata": {},
   "outputs": [
    {
     "data": {
      "text/plain": [
       "0.9225"
      ]
     },
     "execution_count": 143,
     "metadata": {},
     "output_type": "execute_result"
    }
   ],
   "source": [
    "clf.score(X_test,y_test)"
   ]
  },
  {
   "cell_type": "code",
   "execution_count": 144,
   "metadata": {},
   "outputs": [
    {
     "data": {
      "text/plain": [
       "0.9141666666666667"
      ]
     },
     "execution_count": 144,
     "metadata": {},
     "output_type": "execute_result"
    }
   ],
   "source": [
    "from sklearn.ensemble import AdaBoostClassifier\n",
    "clf = AdaBoostClassifier(n_estimators=100, random_state=0)\n",
    "clf.fit(X_train, y_train)\n",
    "clf.score(X_test,y_test)"
   ]
  },
  {
   "cell_type": "code",
   "execution_count": 149,
   "metadata": {},
   "outputs": [
    {
     "data": {
      "text/plain": [
       "0.925"
      ]
     },
     "execution_count": 149,
     "metadata": {},
     "output_type": "execute_result"
    }
   ],
   "source": [
    "from sklearn.ensemble import AdaBoostClassifier\n",
    "clf = AdaBoostClassifier(n_estimators=100, random_state=0,base_estimator=LogisticRegression())\n",
    "clf.fit(X_train, y_train)\n",
    "clf.score(X_test,y_test)"
   ]
  },
  {
   "cell_type": "code",
   "execution_count": 151,
   "metadata": {},
   "outputs": [
    {
     "data": {
      "text/plain": [
       "0.9225"
      ]
     },
     "execution_count": 151,
     "metadata": {},
     "output_type": "execute_result"
    }
   ],
   "source": [
    "from sklearn.ensemble import AdaBoostClassifier\n",
    "clf = AdaBoostClassifier(n_estimators=100, random_state=0,base_estimator=XGBClassifier(random_state=10))\n",
    "clf.fit(X_train, y_train)\n",
    "clf.score(X_test,y_test)"
   ]
  },
  {
   "cell_type": "code",
   "execution_count": 152,
   "metadata": {},
   "outputs": [
    {
     "name": "stderr",
     "output_type": "stream",
     "text": [
      "C:\\Users\\Ravi\\Anaconda3\\lib\\site-packages\\sklearn\\svm\\_base.py:231: ConvergenceWarning: Solver terminated early (max_iter=100).  Consider pre-processing your data with StandardScaler or MinMaxScaler.\n",
      "  % self.max_iter, ConvergenceWarning)\n"
     ]
    },
    {
     "data": {
      "text/plain": [
       "0.77"
      ]
     },
     "execution_count": 152,
     "metadata": {},
     "output_type": "execute_result"
    }
   ],
   "source": [
    "\n",
    "from sklearn.svm import SVC\n",
    "svmg = SVC(gamma= 0.0000001, C=0.2,max_iter=100,probability=True)\n",
    "svmg.fit(X_train, y_train)\n",
    "\n",
    "svmg.score(X_test, y_test)"
   ]
  },
  {
   "cell_type": "code",
   "execution_count": 154,
   "metadata": {},
   "outputs": [
    {
     "data": {
      "text/plain": [
       "0.9225"
      ]
     },
     "execution_count": 154,
     "metadata": {},
     "output_type": "execute_result"
    }
   ],
   "source": [
    "from sklearn.ensemble import AdaBoostClassifier\n",
    "clf = AdaBoostClassifier(n_estimators=100, random_state=0,base_estimator=SVC(),algorithm='SAMME')\n",
    "clf.fit(X_train, y_train)\n",
    "clf.score(X_test,y_test)"
   ]
  },
  {
   "cell_type": "code",
   "execution_count": 156,
   "metadata": {},
   "outputs": [
    {
     "data": {
      "text/plain": [
       "0.99625"
      ]
     },
     "execution_count": 156,
     "metadata": {},
     "output_type": "execute_result"
    }
   ],
   "source": [
    "from sklearn.experimental import enable_hist_gradient_boosting  # noqa\n",
    "from sklearn.ensemble import HistGradientBoostingClassifier\n",
    "clf = HistGradientBoostingClassifier().fit(X_train, y_train)\n",
    "clf.score(X_train, y_train)"
   ]
  },
  {
   "cell_type": "code",
   "execution_count": 157,
   "metadata": {},
   "outputs": [
    {
     "data": {
      "text/plain": [
       "0.9158333333333334"
      ]
     },
     "execution_count": 157,
     "metadata": {},
     "output_type": "execute_result"
    }
   ],
   "source": [
    "clf.score(X_test,y_test)"
   ]
  },
  {
   "cell_type": "code",
   "execution_count": 158,
   "metadata": {},
   "outputs": [
    {
     "data": {
      "text/plain": [
       "0.9266666666666666"
      ]
     },
     "execution_count": 158,
     "metadata": {},
     "output_type": "execute_result"
    }
   ],
   "source": [
    "from sklearn.ensemble import RandomForestClassifier\n",
    "from sklearn.svm import LinearSVC\n",
    "from sklearn.linear_model import LogisticRegression\n",
    "from sklearn.preprocessing import StandardScaler\n",
    "from sklearn.pipeline import make_pipeline\n",
    "from sklearn.ensemble import StackingClassifier\n",
    "estimators = [('rf', RandomForestClassifier(n_estimators=10, random_state=42)),\n",
    "              ('svr', make_pipeline(LinearSVC(random_state=42)))]\n",
    "clf = StackingClassifier(estimators=estimators, final_estimator=LogisticRegression())\n",
    "clf.fit(X_train, y_train).score(X_test, y_test)\n"
   ]
  },
  {
   "cell_type": "code",
   "execution_count": 163,
   "metadata": {},
   "outputs": [
    {
     "name": "stderr",
     "output_type": "stream",
     "text": [
      "C:\\Users\\Ravi\\Anaconda3\\lib\\site-packages\\sklearn\\neural_network\\_multilayer_perceptron.py:571: ConvergenceWarning: Stochastic Optimizer: Maximum iterations (200) reached and the optimization hasn't converged yet.\n",
      "  % self.max_iter, ConvergenceWarning)\n"
     ]
    },
    {
     "data": {
      "text/plain": [
       "0.9225"
      ]
     },
     "execution_count": 163,
     "metadata": {},
     "output_type": "execute_result"
    }
   ],
   "source": [
    "from sklearn.neural_network  import MLPClassifier\n",
    "clf = MLPClassifier(activation='tanh',solver='sgd',learning_rate='adaptive')\n",
    "clf.fit(X_train,y_train)\n",
    "clf.score(X_test,y_test)"
   ]
  },
  {
   "cell_type": "code",
   "execution_count": 168,
   "metadata": {},
   "outputs": [
    {
     "data": {
      "text/plain": [
       "0.9225"
      ]
     },
     "execution_count": 168,
     "metadata": {},
     "output_type": "execute_result"
    }
   ],
   "source": [
    "from sklearn.neural_network  import MLPClassifier\n",
    "clf = MLPClassifier(activation='logistic',solver='sgd',learning_rate='adaptive')\n",
    "clf.fit(X_train,y_train)\n",
    "clf.score(X_test,y_test)"
   ]
  },
  {
   "cell_type": "code",
   "execution_count": 173,
   "metadata": {},
   "outputs": [
    {
     "data": {
      "text/plain": [
       "(4800, 18)"
      ]
     },
     "execution_count": 173,
     "metadata": {},
     "output_type": "execute_result"
    }
   ],
   "source": [
    "X_train.shape"
   ]
  },
  {
   "cell_type": "code",
   "execution_count": 183,
   "metadata": {},
   "outputs": [],
   "source": [
    "#input and output layer is of 20 and 4 dimensions respectively.\n",
    "#Dependencies\n",
    "import keras\n",
    "from keras.models import Sequential\n",
    "from keras.layers import Dense\n",
    "# Neural network\n",
    "model = Sequential()\n",
    "model.add(Dense(16, input_dim=18, activation='relu'))\n",
    "model.add(Dense(12, activation='relu'))\n",
    "model.add(Dense(1, activation='sigmoid'))"
   ]
  },
  {
   "cell_type": "code",
   "execution_count": 184,
   "metadata": {},
   "outputs": [],
   "source": [
    "model.compile(loss='binary_crossentropy', optimizer='adam', metrics=['accuracy'])"
   ]
  },
  {
   "cell_type": "code",
   "execution_count": 198,
   "metadata": {},
   "outputs": [
    {
     "name": "stdout",
     "output_type": "stream",
     "text": [
      "Epoch 1/100\n",
      "4800/4800 [==============================] - 6s 1ms/step - loss: 0.1105 - acc: 0.9563\n",
      "Epoch 2/100\n",
      "4800/4800 [==============================] - 3s 670us/step - loss: 0.1099 - acc: 0.9563\n",
      "Epoch 3/100\n",
      "4800/4800 [==============================] - 2s 496us/step - loss: 0.1104 - acc: 0.9546\n",
      "Epoch 4/100\n",
      "4800/4800 [==============================] - 3s 612us/step - loss: 0.1097 - acc: 0.9565\n",
      "Epoch 5/100\n",
      "4800/4800 [==============================] - 3s 528us/step - loss: 0.1115 - acc: 0.9542\n",
      "Epoch 6/100\n",
      "4800/4800 [==============================] - 3s 629us/step - loss: 0.1096 - acc: 0.9556\n",
      "Epoch 7/100\n",
      "4800/4800 [==============================] - 2s 503us/step - loss: 0.1078 - acc: 0.9556\n",
      "Epoch 8/100\n",
      "4800/4800 [==============================] - 3s 602us/step - loss: 0.1112 - acc: 0.9558\n",
      "Epoch 9/100\n",
      "4800/4800 [==============================] - 3s 529us/step - loss: 0.1085 - acc: 0.9567\n",
      "Epoch 10/100\n",
      "4800/4800 [==============================] - 2s 504us/step - loss: 0.1099 - acc: 0.9544\n",
      "Epoch 11/100\n",
      "4800/4800 [==============================] - 3s 641us/step - loss: 0.1084 - acc: 0.9565\n",
      "Epoch 12/100\n",
      "4800/4800 [==============================] - 3s 527us/step - loss: 0.1094 - acc: 0.9573\n",
      "Epoch 13/100\n",
      "4800/4800 [==============================] - 3s 624us/step - loss: 0.1093 - acc: 0.9548\n",
      "Epoch 14/100\n",
      "4800/4800 [==============================] - 2s 519us/step - loss: 0.1105 - acc: 0.9569\n",
      "Epoch 15/100\n",
      "4800/4800 [==============================] - 3s 634us/step - loss: 0.1105 - acc: 0.9571\n",
      "Epoch 16/100\n",
      "4800/4800 [==============================] - 2s 519us/step - loss: 0.1093 - acc: 0.9571\n",
      "Epoch 17/100\n",
      "4800/4800 [==============================] - 3s 642us/step - loss: 0.1095 - acc: 0.9556\n",
      "Epoch 18/100\n",
      "4800/4800 [==============================] - 2s 502us/step - loss: 0.1089 - acc: 0.9577\n",
      "Epoch 19/100\n",
      "4800/4800 [==============================] - 3s 583us/step - loss: 0.1094 - acc: 0.9565\n",
      "Epoch 20/100\n",
      "4800/4800 [==============================] - 3s 578us/step - loss: 0.1094 - acc: 0.9563\n",
      "Epoch 21/100\n",
      "4800/4800 [==============================] - 3s 556us/step - loss: 0.1099 - acc: 0.9531\n",
      "Epoch 22/100\n",
      "4800/4800 [==============================] - 3s 608us/step - loss: 0.1086 - acc: 0.9556\n",
      "Epoch 23/100\n",
      "4800/4800 [==============================] - 3s 568us/step - loss: 0.1087 - acc: 0.9565\n",
      "Epoch 24/100\n",
      "4800/4800 [==============================] - 3s 600us/step - loss: 0.1083 - acc: 0.9571\n",
      "Epoch 25/100\n",
      "4800/4800 [==============================] - 3s 572us/step - loss: 0.1090 - acc: 0.9569\n",
      "Epoch 26/100\n",
      "4800/4800 [==============================] - 3s 599us/step - loss: 0.1064 - acc: 0.9573\n",
      "Epoch 27/100\n",
      "4800/4800 [==============================] - 3s 584us/step - loss: 0.1114 - acc: 0.9546\n",
      "Epoch 28/100\n",
      "4800/4800 [==============================] - 3s 640us/step - loss: 0.1083 - acc: 0.9556 0s - loss: 0.1048 - ac\n",
      "Epoch 29/100\n",
      "4800/4800 [==============================] - 3s 574us/step - loss: 0.1073 - acc: 0.9575\n",
      "Epoch 30/100\n",
      "4800/4800 [==============================] - 3s 618us/step - loss: 0.1096 - acc: 0.9535\n",
      "Epoch 31/100\n",
      "4800/4800 [==============================] - 3s 717us/step - loss: 0.1078 - acc: 0.9540\n",
      "Epoch 32/100\n",
      "4800/4800 [==============================] - 3s 653us/step - loss: 0.1087 - acc: 0.9542\n",
      "Epoch 33/100\n",
      "4800/4800 [==============================] - 3s 581us/step - loss: 0.1099 - acc: 0.9556\n",
      "Epoch 34/100\n",
      "4800/4800 [==============================] - 4s 782us/step - loss: 0.1081 - acc: 0.9546\n",
      "Epoch 35/100\n",
      "4800/4800 [==============================] - 3s 625us/step - loss: 0.1092 - acc: 0.9542\n",
      "Epoch 36/100\n",
      "4800/4800 [==============================] - 3s 617us/step - loss: 0.1098 - acc: 0.9544\n",
      "Epoch 37/100\n",
      "4800/4800 [==============================] - 3s 610us/step - loss: 0.1086 - acc: 0.9569\n",
      "Epoch 38/100\n",
      "4800/4800 [==============================] - 3s 648us/step - loss: 0.1071 - acc: 0.9544\n",
      "Epoch 39/100\n",
      "4800/4800 [==============================] - 3s 597us/step - loss: 0.1078 - acc: 0.9577\n",
      "Epoch 40/100\n",
      "4800/4800 [==============================] - 3s 680us/step - loss: 0.1072 - acc: 0.9575\n",
      "Epoch 41/100\n",
      "4800/4800 [==============================] - 3s 619us/step - loss: 0.1093 - acc: 0.9542\n",
      "Epoch 42/100\n",
      "4800/4800 [==============================] - 3s 650us/step - loss: 0.1081 - acc: 0.9548\n",
      "Epoch 43/100\n",
      "4800/4800 [==============================] - 3s 560us/step - loss: 0.1090 - acc: 0.9550\n",
      "Epoch 44/100\n",
      "4800/4800 [==============================] - 3s 626us/step - loss: 0.1094 - acc: 0.9571\n",
      "Epoch 45/100\n",
      "4800/4800 [==============================] - 3s 578us/step - loss: 0.1099 - acc: 0.9565\n",
      "Epoch 46/100\n",
      "4800/4800 [==============================] - 3s 625us/step - loss: 0.1077 - acc: 0.9579\n",
      "Epoch 47/100\n",
      "4800/4800 [==============================] - 3s 601us/step - loss: 0.1088 - acc: 0.9577\n",
      "Epoch 48/100\n",
      "4800/4800 [==============================] - 3s 635us/step - loss: 0.1104 - acc: 0.9571\n",
      "Epoch 49/100\n",
      "4800/4800 [==============================] - 3s 587us/step - loss: 0.1088 - acc: 0.9560\n",
      "Epoch 50/100\n",
      "4800/4800 [==============================] - 3s 609us/step - loss: 0.1059 - acc: 0.9569\n",
      "Epoch 51/100\n",
      "4800/4800 [==============================] - 3s 586us/step - loss: 0.1097 - acc: 0.9552\n",
      "Epoch 52/100\n",
      "4800/4800 [==============================] - 3s 720us/step - loss: 0.1099 - acc: 0.9569\n",
      "Epoch 53/100\n",
      "4800/4800 [==============================] - 3s 715us/step - loss: 0.1067 - acc: 0.9585\n",
      "Epoch 54/100\n",
      "4800/4800 [==============================] - 4s 782us/step - loss: 0.1084 - acc: 0.9571\n",
      "Epoch 55/100\n",
      "4800/4800 [==============================] - 3s 694us/step - loss: 0.1073 - acc: 0.9577\n",
      "Epoch 56/100\n",
      "4800/4800 [==============================] - 4s 750us/step - loss: 0.1095 - acc: 0.9558\n",
      "Epoch 57/100\n",
      "4800/4800 [==============================] - 4s 749us/step - loss: 0.1071 - acc: 0.9569\n",
      "Epoch 58/100\n",
      "4800/4800 [==============================] - 3s 695us/step - loss: 0.1075 - acc: 0.9558\n",
      "Epoch 59/100\n",
      "4800/4800 [==============================] - 4s 831us/step - loss: 0.1086 - acc: 0.9569\n",
      "Epoch 60/100\n",
      "4800/4800 [==============================] - 3s 631us/step - loss: 0.1089 - acc: 0.9573\n",
      "Epoch 61/100\n",
      "4800/4800 [==============================] - 4s 850us/step - loss: 0.1070 - acc: 0.9565\n",
      "Epoch 62/100\n",
      "4800/4800 [==============================] - 4s 877us/step - loss: 0.1072 - acc: 0.9550\n",
      "Epoch 63/100\n",
      "4800/4800 [==============================] - 4s 768us/step - loss: 0.1081 - acc: 0.9560\n",
      "Epoch 64/100\n",
      "4800/4800 [==============================] - 3s 661us/step - loss: 0.1083 - acc: 0.9565 0s - loss: 0.1080 - acc: 0.9\n",
      "Epoch 65/100\n",
      "4800/4800 [==============================] - 4s 914us/step - loss: 0.1068 - acc: 0.9579\n",
      "Epoch 66/100\n",
      "4800/4800 [==============================] - 4s 799us/step - loss: 0.1093 - acc: 0.9533\n",
      "Epoch 67/100\n",
      "4800/4800 [==============================] - 3s 610us/step - loss: 0.1076 - acc: 0.9540\n",
      "Epoch 68/100\n",
      "4800/4800 [==============================] - 4s 823us/step - loss: 0.1067 - acc: 0.9581 0s - loss: 0.105\n",
      "Epoch 69/100\n",
      "4800/4800 [==============================] - 3s 647us/step - loss: 0.1075 - acc: 0.9565\n",
      "Epoch 70/100\n",
      "4800/4800 [==============================] - 4s 839us/step - loss: 0.1085 - acc: 0.9546 1s - loss: 0.1\n",
      "Epoch 71/100\n",
      "4800/4800 [==============================] - 3s 617us/step - loss: 0.1072 - acc: 0.9558\n",
      "Epoch 72/100\n",
      "4800/4800 [==============================] - 4s 806us/step - loss: 0.1072 - acc: 0.9563\n",
      "Epoch 73/100\n",
      "4800/4800 [==============================] - 3s 628us/step - loss: 0.1078 - acc: 0.9571\n",
      "Epoch 74/100\n",
      "4800/4800 [==============================] - 4s 792us/step - loss: 0.1086 - acc: 0.9563\n",
      "Epoch 75/100\n",
      "4800/4800 [==============================] - 3s 651us/step - loss: 0.1067 - acc: 0.9581\n",
      "Epoch 76/100\n",
      "4800/4800 [==============================] - 4s 785us/step - loss: 0.1077 - acc: 0.9573\n",
      "Epoch 77/100\n",
      "4800/4800 [==============================] - 4s 749us/step - loss: 0.1072 - acc: 0.9583\n",
      "Epoch 78/100\n",
      "4800/4800 [==============================] - 4s 735us/step - loss: 0.1082 - acc: 0.9575\n",
      "Epoch 79/100\n",
      "4800/4800 [==============================] - 5s 1ms/step - loss: 0.1083 - acc: 0.9567A: 0s - loss: 0.1084 - acc: 0.956\n",
      "Epoch 80/100\n",
      "4800/4800 [==============================] - 3s 672us/step - loss: 0.1069 - acc: 0.9567\n",
      "Epoch 81/100\n"
     ]
    },
    {
     "name": "stdout",
     "output_type": "stream",
     "text": [
      "4800/4800 [==============================] - 4s 839us/step - loss: 0.1072 - acc: 0.9581\n",
      "Epoch 82/100\n",
      "4800/4800 [==============================] - 3s 637us/step - loss: 0.1083 - acc: 0.9556\n",
      "Epoch 83/100\n",
      "4800/4800 [==============================] - 4s 757us/step - loss: 0.1066 - acc: 0.9569\n",
      "Epoch 84/100\n",
      "4800/4800 [==============================] - 3s 596us/step - loss: 0.1060 - acc: 0.9588\n",
      "Epoch 85/100\n",
      "4800/4800 [==============================] - 4s 748us/step - loss: 0.1074 - acc: 0.9575\n",
      "Epoch 86/100\n",
      "4800/4800 [==============================] - 3s 603us/step - loss: 0.1075 - acc: 0.9569\n",
      "Epoch 87/100\n",
      "4800/4800 [==============================] - 4s 734us/step - loss: 0.1058 - acc: 0.9583\n",
      "Epoch 88/100\n",
      "4800/4800 [==============================] - 3s 579us/step - loss: 0.1080 - acc: 0.9548\n",
      "Epoch 89/100\n",
      "4800/4800 [==============================] - 4s 784us/step - loss: 0.1056 - acc: 0.9571\n",
      "Epoch 90/100\n",
      "4800/4800 [==============================] - 3s 574us/step - loss: 0.1071 - acc: 0.9569\n",
      "Epoch 91/100\n",
      "4800/4800 [==============================] - 3s 729us/step - loss: 0.1068 - acc: 0.9594\n",
      "Epoch 92/100\n",
      "4800/4800 [==============================] - 3s 567us/step - loss: 0.1062 - acc: 0.9575\n",
      "Epoch 93/100\n",
      "4800/4800 [==============================] - 4s 777us/step - loss: 0.1064 - acc: 0.9585\n",
      "Epoch 94/100\n",
      "4800/4800 [==============================] - 5s 951us/step - loss: 0.1073 - acc: 0.9560\n",
      "Epoch 95/100\n",
      "4800/4800 [==============================] - 3s 727us/step - loss: 0.1071 - acc: 0.9556\n",
      "Epoch 96/100\n",
      "4800/4800 [==============================] - 4s 764us/step - loss: 0.1068 - acc: 0.9571\n",
      "Epoch 97/100\n",
      "4800/4800 [==============================] - 3s 577us/step - loss: 0.1078 - acc: 0.9575\n",
      "Epoch 98/100\n",
      "4800/4800 [==============================] - 4s 764us/step - loss: 0.1056 - acc: 0.9588\n",
      "Epoch 99/100\n",
      "4800/4800 [==============================] - ETA: 0s - loss: 0.1086 - acc: 0.957 - 3s 583us/step - loss: 0.1087 - acc: 0.9575\n",
      "Epoch 100/100\n",
      "4800/4800 [==============================] - 4s 751us/step - loss: 0.1053 - acc: 0.9554\n"
     ]
    },
    {
     "data": {
      "text/plain": [
       "<keras.callbacks.History at 0x26cce130848>"
      ]
     },
     "execution_count": 198,
     "metadata": {},
     "output_type": "execute_result"
    }
   ],
   "source": [
    "model.fit(X_train, y_train, epochs=100, batch_size=5)"
   ]
  },
  {
   "cell_type": "code",
   "execution_count": 199,
   "metadata": {},
   "outputs": [
    {
     "name": "stdout",
     "output_type": "stream",
     "text": [
      "4800/4800 [==============================] - 1s 105us/step\n",
      "Accuracy: 95.81\n"
     ]
    }
   ],
   "source": [
    "_, accuracy = model.evaluate(X_train, y_train)\n",
    "print('Accuracy: %.2f' % (accuracy*100))"
   ]
  },
  {
   "cell_type": "code",
   "execution_count": 200,
   "metadata": {},
   "outputs": [
    {
     "name": "stdout",
     "output_type": "stream",
     "text": [
      "1200/1200 [==============================] - 0s 189us/step\n",
      "Accuracy: 90.33\n"
     ]
    }
   ],
   "source": [
    "_, accuracy = model.evaluate(X_test, y_test)\n",
    "print('Accuracy: %.2f' % (accuracy*100))"
   ]
  },
  {
   "cell_type": "code",
   "execution_count": 201,
   "metadata": {},
   "outputs": [],
   "source": [
    "model.save(\"model_ann.h5\")"
   ]
  },
  {
   "cell_type": "code",
   "execution_count": 202,
   "metadata": {},
   "outputs": [],
   "source": [
    "from keras.models import load_model"
   ]
  },
  {
   "cell_type": "code",
   "execution_count": 203,
   "metadata": {},
   "outputs": [
    {
     "name": "stdout",
     "output_type": "stream",
     "text": [
      "_________________________________________________________________\n",
      "Layer (type)                 Output Shape              Param #   \n",
      "=================================================================\n",
      "dense_10 (Dense)             (None, 16)                304       \n",
      "_________________________________________________________________\n",
      "dense_11 (Dense)             (None, 12)                204       \n",
      "_________________________________________________________________\n",
      "dense_12 (Dense)             (None, 1)                 13        \n",
      "=================================================================\n",
      "Total params: 521\n",
      "Trainable params: 521\n",
      "Non-trainable params: 0\n",
      "_________________________________________________________________\n"
     ]
    }
   ],
   "source": [
    "# load model\n",
    "model = load_model('model_ann.h5')\n",
    "# summarize model.\n",
    "model.summary()"
   ]
  },
  {
   "cell_type": "code",
   "execution_count": null,
   "metadata": {},
   "outputs": [],
   "source": []
  }
 ],
 "metadata": {
  "kernelspec": {
   "display_name": "Python 3",
   "language": "python",
   "name": "python3"
  },
  "language_info": {
   "codemirror_mode": {
    "name": "ipython",
    "version": 3
   },
   "file_extension": ".py",
   "mimetype": "text/x-python",
   "name": "python",
   "nbconvert_exporter": "python",
   "pygments_lexer": "ipython3",
   "version": "3.7.4"
  }
 },
 "nbformat": 4,
 "nbformat_minor": 2
}
